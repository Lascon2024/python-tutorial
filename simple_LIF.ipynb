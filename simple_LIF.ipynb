{
 "cells": [
  {
   "cell_type": "code",
   "execution_count": 25,
   "metadata": {},
   "outputs": [
    {
     "data": {
      "image/png": "[encoded data removed]",
      "text/plain": [
       "<Figure size 432x288 with 2 Axes>"
      ]
     },
     "metadata": {
      "needs_background": "light"
     },
     "output_type": "display_data"
    }
   ],
   "source": [
    "import numpy\n",
    "import modules.IFNeurons as neu\n",
    "import matplotlib.pyplot as plt\n",
    "\n",
    "# simulation parameters\n",
    "dt       = 0.2    # ms (time step)\n",
    "T        = 250.0 # ms (total simulation time)\n",
    "\n",
    "# membrane white noise amplitude\n",
    "noiseStd = 0.5 # mV\n",
    "\n",
    "# neuron parameters\n",
    "VInit    = -67.0  # mV (initial condition of V)\n",
    "Vr       = -45.0  # mV (reset potential)\n",
    "Vb       = -67.0  # mV (baseline potential -- bias)\n",
    "tau      =  38.0  # ms (membrane time constant)\n",
    "R        =  1.0   # MOhm (external current channel\n",
    "theta    = -40.0  # mV (threshold membrane potential)\n",
    "\n",
    "# input current parameters\n",
    "stimtype   = 'step' # 'step' == DC current; 'ramp' == linearly increasing current\n",
    "I0         = 40.0   # nA (external current amplitude)\n",
    "tStim      = 25.0  # ms (instant of stimulus start)\n",
    "DeltaTStim = 150.0 # ms (duration of stimulus)\n",
    "\n",
    "# create noise\n",
    "noise = neu.SynapticWhiteNoise(noiseStd,dt)\n",
    "\n",
    "# create neuron\n",
    "neuron = neu.LIF(dt,VInit,Vr,Vb,tau,R,theta)\n",
    "\n",
    "# add noise\n",
    "neuron.AddNoiseFunc(noise.GetSignal)\n",
    "\n",
    "# setup simulation output variables\n",
    "Tsteps = int(numpy.ceil(T / dt))\n",
    "ts     = numpy.arange(Tsteps)\n",
    "V      = numpy.zeros(Tsteps)\n",
    "\n",
    "# creating input current\n",
    "I      = neu.get_input_current(ts,dt,stimtype,I0,tStim,DeltaTStim)\n",
    "\n",
    "# time loop\n",
    "for t in ts:\n",
    "    # integrate neuron equation subject to external current I[t]\n",
    "    neuron.Step(I[t])\n",
    "\n",
    "    # save membrane potential at time t\n",
    "    V[t] = neuron.GetV()\n",
    "\n",
    "\n",
    "fig,ax = plt.subplots(nrows=2,ncols=1,sharex=True,height_ratios=[1,0.3])\n",
    "ax[0].plot(ts*dt,V,'-b')\n",
    "ax[1].plot(ts*dt,I,'-r')\n",
    "ax[0].set_ylabel('V (mV)')\n",
    "ax[1].set_xlabel('Time (ms)')\n",
    "ax[1].set_ylabel('I (nA)')\n",
    "\n",
    "plt.show()"
   ]
  },
  {
   "cell_type": "code",
   "execution_count": 29,
   "metadata": {},
   "outputs": [
    {
     "data": {
      "image/png": "[encoded data removed]",
      "text/plain": [
       "<Figure size 432x288 with 2 Axes>"
      ]
     },
     "metadata": {
      "needs_background": "light"
     },
     "output_type": "display_data"
    }
   ],
   "source": [
    "import numpy\n",
    "import modules.IFNeurons as neu\n",
    "import matplotlib.pyplot as plt\n",
    "\n",
    "# simulation parameters\n",
    "dt       = 0.2    # ms (time step)\n",
    "T        = 700.0 # ms (total simulation time)\n",
    "\n",
    "# membrane white noise amplitude\n",
    "noiseStd = 0.5 # mV\n",
    "\n",
    "# neuron parameters\n",
    "VInit    = -67.0  # mV (initial condition of V)\n",
    "Vr       = -45.0  # mV (reset potential)\n",
    "Vb       = -67.0  # mV (baseline potential -- bias)\n",
    "tau      =  38.0  # ms (membrane time constant)\n",
    "R        =  1.0   # MOhm (external current channel\n",
    "theta    = -40.0  # mV (threshold membrane potential)\n",
    "\n",
    "# input current parameters\n",
    "stimtype   = 'ramp' # 'step' == DC current; 'ramp' == linearly increasing current\n",
    "I0         = 50.0   # nA (external current amplitude)\n",
    "tStim      = 10.0  # ms (instant of stimulus start)\n",
    "DeltaTStim = 480.0 # ms (duration of stimulus)\n",
    "\n",
    "# create noise\n",
    "noise = neu.SynapticWhiteNoise(noiseStd,dt)\n",
    "\n",
    "# create neuron\n",
    "neuron = neu.LIF(dt,VInit,Vr,Vb,tau,R,theta)\n",
    "\n",
    "# add noise\n",
    "neuron.AddNoiseFunc(noise.GetSignal)\n",
    "\n",
    "# setup simulation output variables\n",
    "Tsteps = int(numpy.ceil(T / dt))\n",
    "ts     = numpy.arange(Tsteps)\n",
    "V      = numpy.zeros(Tsteps)\n",
    "\n",
    "# creating input current\n",
    "I      = neu.get_input_current(ts,dt,stimtype,I0,tStim,DeltaTStim)\n",
    "\n",
    "# time loop\n",
    "for t in ts:\n",
    "    # integrate neuron equation subject to external current I[t]\n",
    "    neuron.Step(I[t])\n",
    "\n",
    "    # save membrane potential at time t\n",
    "    V[t] = neuron.GetV()\n",
    "\n",
    "\n",
    "fig,ax = plt.subplots(nrows=2,ncols=1,sharex=True,height_ratios=[1,0.3])\n",
    "ax[0].plot(ts*dt,V,'-b')\n",
    "ax[1].plot(ts*dt,I,'-r')\n",
    "ax[0].set_ylabel('V (mV)')\n",
    "ax[1].set_xlabel('Time (ms)')\n",
    "ax[1].set_ylabel('I (nA)')\n",
    "\n",
    "plt.show()"
   ]
  }
 ],
 "metadata": {
  "kernelspec": {
   "display_name": "Python 3",
   "language": "python",
   "name": "python3"
  },
  "language_info": {
   "codemirror_mode": {
    "name": "ipython",
    "version": 3
   },
   "file_extension": ".py",
   "mimetype": "text/x-python",
   "name": "python",
   "nbconvert_exporter": "python",
   "pygments_lexer": "ipython3",
   "version": "3.8.2"
  }
 },
 "nbformat": 4,
 "nbformat_minor": 2
}
